{
 "cells": [
  {
   "cell_type": "markdown",
   "metadata": {},
   "source": [
    "# Tạo Outline tự động"
   ]
  },
  {
   "cell_type": "code",
   "execution_count": 32,
   "metadata": {},
   "outputs": [],
   "source": [
    "import os\n",
    "import urllib.parse"
   ]
  },
  {
   "cell_type": "markdown",
   "metadata": {},
   "source": [
    "## Quét thư mục hiện tại"
   ]
  },
  {
   "cell_type": "code",
   "execution_count": 33,
   "metadata": {
    "editable": true,
    "slideshow": {
     "slide_type": ""
    },
    "tags": []
   },
   "outputs": [],
   "source": [
    "project_path = os.path.dirname((os.path.dirname(os.getcwd())))\n",
    "def scan_directory(directory, prefix='##'):\n",
    "    structure = \"\"\n",
    "    file_list = \"> [!note] Danh sách bài viết\\n\"\n",
    "    stt = 1\n",
    "    for item in sorted(os.listdir(directory)):\n",
    "        if item.startswith('.') or item.startswith('_'):\n",
    "            continue\n",
    "        path = os.path.join(directory, item)\n",
    "        if os.path.isdir(path):\n",
    "            structure += f'{prefix} {item}  \\n'\n",
    "            structure += scan_directory(path, prefix + \"##\")\n",
    "            stt = 1\n",
    "        else:\n",
    "            relative_path = os.path.relpath(path).replace('\\\\', '/')\n",
    "            encoded_path = urllib.parse.quote(relative_path).lstrip(\"../../\")\n",
    "            if (prefix != '##'):                \n",
    "                if (stt == 1):\n",
    "                    structure += file_list            \n",
    "                structure += f'> {stt}. [{item}](/{encoded_path})\\n'\n",
    "                stt += 1\n",
    "            else: structure += f'{prefix} [{item}](/{encoded_path})\\n'\n",
    "    return structure\n",
    "\n",
    "structure = \"# Mục lục\\n\\n\" + scan_directory(project_path)"
   ]
  },
  {
   "cell_type": "markdown",
   "metadata": {},
   "source": [
    "## Lưu cấu trúc thư mục vào file README.md"
   ]
  },
  {
   "cell_type": "code",
   "execution_count": 34,
   "metadata": {},
   "outputs": [
    {
     "name": "stdout",
     "output_type": "stream",
     "text": [
      "Đã tạo mục lục thành công!\n"
     ]
    }
   ],
   "source": [
    "with open('..\\..\\README.md', 'w', encoding='utf-8') as file:\n",
    "    file.write(structure)\n",
    "print(f'Đã tạo mục lục thành công!')"
   ]
  },
  {
   "cell_type": "code",
   "execution_count": null,
   "metadata": {},
   "outputs": [],
   "source": []
  }
 ],
 "metadata": {
  "kernelspec": {
   "display_name": "Python 3 (ipykernel)",
   "language": "python",
   "name": "python3"
  },
  "language_info": {
   "codemirror_mode": {
    "name": "ipython",
    "version": 3
   },
   "file_extension": ".py",
   "mimetype": "text/x-python",
   "name": "python",
   "nbconvert_exporter": "python",
   "pygments_lexer": "ipython3",
   "version": "3.11.3"
  }
 },
 "nbformat": 4,
 "nbformat_minor": 4
}
