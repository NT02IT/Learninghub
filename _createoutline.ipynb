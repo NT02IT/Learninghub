{
 "cells": [
  {
   "cell_type": "markdown",
   "metadata": {},
   "source": [
    "# Tạo Outline tự động"
   ]
  },
  {
   "cell_type": "code",
   "execution_count": 24,
   "metadata": {},
   "outputs": [],
   "source": [
    "import os\n",
    "import urllib.parse"
   ]
  },
  {
   "cell_type": "markdown",
   "metadata": {},
   "source": [
    "## Quét thư mục hiện tại"
   ]
  },
  {
   "cell_type": "code",
   "execution_count": 25,
   "metadata": {
    "editable": true,
    "slideshow": {
     "slide_type": ""
    },
    "tags": []
   },
   "outputs": [
    {
     "ename": "SyntaxError",
     "evalue": "invalid syntax (851108863.py, line 18)",
     "output_type": "error",
     "traceback": [
      "\u001b[1;36m  Cell \u001b[1;32mIn[25], line 18\u001b[1;36m\u001b[0m\n\u001b[1;33m    if (stt == 1) {\u001b[0m\n\u001b[1;37m                  ^\u001b[0m\n\u001b[1;31mSyntaxError\u001b[0m\u001b[1;31m:\u001b[0m invalid syntax\n"
     ]
    }
   ],
   "source": [
    "project_path = os.getcwd()\n",
    "def scan_directory(directory, prefix='##'):\n",
    "    structure = \"\"\n",
    "    index_structure = \"| STT | Tên tệp | \\n\"\n",
    "    index_structure += \"| --- | -------- | \\n\"\n",
    "    stt = 1\n",
    "    for item in os.listdir(directory):\n",
    "        if item.startswith('.') or item.startswith('_'):\n",
    "            continue\n",
    "        path = os.path.join(directory, item)\n",
    "        if os.path.isdir(path):\n",
    "            structure += f'{prefix} {item}  \\n'\n",
    "            structure += scan_directory(path, prefix + '#')\n",
    "            stt = 1\n",
    "        else:\n",
    "            relative_path = os.path.relpath(path).replace('\\\\', '/')\n",
    "            encoded_path = urllib.parse.quote(relative_path)\n",
    "            if (stt == 1):\n",
    "                structure += index_structure            \n",
    "            structure += f'| {stt} | [{item}](/{encoded_path}) |  \\n'\n",
    "            stt += 1\n",
    "    return structure\n",
    "\n",
    "structure = \"# Mục lục\\n\\n\" + scan_directory(project_path)"
   ]
  },
  {
   "cell_type": "markdown",
   "metadata": {},
   "source": [
    "## Lưu cấu trúc thư mục vào file README.md"
   ]
  },
  {
   "cell_type": "code",
   "execution_count": null,
   "metadata": {},
   "outputs": [],
   "source": [
    "with open('README.md', 'w', encoding='utf-8') as file:\n",
    "    file.write(structure)\n",
    "print(f'Đã tạo mục lục thành công!')"
   ]
  },
  {
   "cell_type": "code",
   "execution_count": null,
   "metadata": {},
   "outputs": [],
   "source": []
  }
 ],
 "metadata": {
  "kernelspec": {
   "display_name": "Python 3 (ipykernel)",
   "language": "python",
   "name": "python3"
  },
  "language_info": {
   "codemirror_mode": {
    "name": "ipython",
    "version": 3
   },
   "file_extension": ".py",
   "mimetype": "text/x-python",
   "name": "python",
   "nbconvert_exporter": "python",
   "pygments_lexer": "ipython3",
   "version": "3.11.3"
  }
 },
 "nbformat": 4,
 "nbformat_minor": 4
}
